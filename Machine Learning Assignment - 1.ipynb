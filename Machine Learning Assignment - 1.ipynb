{
 "cells": [
  {
   "cell_type": "markdown",
   "id": "db5b0cad",
   "metadata": {},
   "source": [
    "# Machine Learning Assignment - 1"
   ]
  },
  {
   "cell_type": "markdown",
   "id": "bf461bd0",
   "metadata": {},
   "source": [
    "1. What does one mean by the term \"machine learning\"?"
   ]
  },
  {
   "cell_type": "markdown",
   "id": "2f3cbdba",
   "metadata": {},
   "source": [
    "Machine Learning is an art of programming  a computer so that the computer reads the pattern of the data and it is flexible enough to adapt new data without any explicit Programming"
   ]
  },
  {
   "cell_type": "markdown",
   "id": "c71cb265",
   "metadata": {},
   "source": [
    "2.Can you think of 4 distinct types of issues where it shines?"
   ]
  },
  {
   "cell_type": "markdown",
   "id": "16fcc8af",
   "metadata": {},
   "source": [
    "1) Image & Video Recognition                                                                                               \n",
    "2) Recommendation Systems                                                                                                   \n",
    "3) Predictive analysis in healthcare                                                                                        \n",
    "4) NLP"
   ]
  },
  {
   "cell_type": "markdown",
   "id": "49a06366",
   "metadata": {},
   "source": [
    "3.What is a labeled training set, and how does it work?"
   ]
  },
  {
   "cell_type": "markdown",
   "id": "8926f6fb",
   "metadata": {},
   "source": [
    "The training set is the one in which we build our model and optimizing our model and it should give good accuracy"
   ]
  },
  {
   "cell_type": "markdown",
   "id": "2f4d45cc",
   "metadata": {},
   "source": [
    "4.What are the two most important tasks that are supervised?"
   ]
  },
  {
   "cell_type": "markdown",
   "id": "c28ec693",
   "metadata": {},
   "source": [
    "Regression and Classification"
   ]
  },
  {
   "cell_type": "markdown",
   "id": "7c70054e",
   "metadata": {},
   "source": [
    "5.Can you think of four examples of unsupervised tasks?"
   ]
  },
  {
   "cell_type": "markdown",
   "id": "515a4e2d",
   "metadata": {},
   "source": [
    "1). predicting the Votes in election                                                                                           \n",
    "2). Customer Segmentation                                                                                                    \n",
    "3) Recommended Systems                                                                                                         \n",
    "4) Anomaly Detection"
   ]
  },
  {
   "cell_type": "markdown",
   "id": "2462560f",
   "metadata": {},
   "source": [
    "6.State the machine learning model that would be best to make a robot walk through various\n",
    "unfamiliar terrains?"
   ]
  },
  {
   "cell_type": "markdown",
   "id": "8e9c4dd9",
   "metadata": {},
   "source": [
    "Reinforcement Learning"
   ]
  },
  {
   "cell_type": "markdown",
   "id": "2f128e4c",
   "metadata": {},
   "source": [
    "7.Which algorithm will you use to divide your customers into different groups?"
   ]
  },
  {
   "cell_type": "markdown",
   "id": "fc1bef87",
   "metadata": {},
   "source": [
    "Unsupervised ML Algorithms can be used to divide your customers into different groups"
   ]
  },
  {
   "cell_type": "markdown",
   "id": "6edb22b1",
   "metadata": {},
   "source": [
    "8.Will you consider the problem of spam detection to be a supervised or unsupervised learning\n",
    "problem?"
   ]
  },
  {
   "cell_type": "markdown",
   "id": "bbb588ad",
   "metadata": {},
   "source": [
    "Supervised learning problem"
   ]
  },
  {
   "cell_type": "markdown",
   "id": "21f1a7fc",
   "metadata": {},
   "source": [
    "9.What is the concept of an online learning system?"
   ]
  },
  {
   "cell_type": "markdown",
   "id": "e83fa0a4",
   "metadata": {},
   "source": [
    "In machine learning, an online learning system, also known as incremental learning or streaming learning, is a learning paradigm where the model is updated continuously as new data becomes available, rather than being trained on a fixed dataset all at once. This approach is particularly useful in scenarios where data is generated in a sequential or streaming fashion, and the model needs to adapt and learn from this evolving data."
   ]
  },
  {
   "cell_type": "markdown",
   "id": "0f80144c",
   "metadata": {},
   "source": [
    "10.What is out-of-core learning, and how does it differ from core learning?"
   ]
  },
  {
   "cell_type": "markdown",
   "id": "ca070221",
   "metadata": {},
   "source": [
    "out-of-core learning is a technique used to learn from data that cannot fit in a computer's main memory (RAM) but can easily fit into some data storage, such as a local hard disk or web repository."
   ]
  },
  {
   "cell_type": "markdown",
   "id": "03d71024",
   "metadata": {},
   "source": [
    "11.What kind of learning algorithm makes predictions using a similarity measure?"
   ]
  },
  {
   "cell_type": "markdown",
   "id": "ff807de3",
   "metadata": {},
   "source": [
    "instance-based Algorithms"
   ]
  },
  {
   "cell_type": "markdown",
   "id": "87a0d824",
   "metadata": {},
   "source": [
    "12.What's the difference between a model parameter and a hyperparameter in a learning\n",
    "algorithm?"
   ]
  },
  {
   "cell_type": "markdown",
   "id": "2de038ca",
   "metadata": {},
   "source": [
    "Model Parameters: These are parameters that are given in the dataset and it is not adjustable.                             \n",
    "Hyperparameter : There are the parameters that are adjustable and it can be tuned for getting optimized model."
   ]
  },
  {
   "cell_type": "markdown",
   "id": "09e94192",
   "metadata": {},
   "source": [
    "13.What are the criteria that model-based learning algorithms look for? What is the most popular\n",
    "method they use to achieve success? What method do they use to make predictions?"
   ]
  },
  {
   "cell_type": "markdown",
   "id": "a7c02e8b",
   "metadata": {},
   "source": [
    "Model based learning algorithm search for the optimal value of parameters in a model that will give the best results for the new instances"
   ]
  },
  {
   "cell_type": "markdown",
   "id": "afbc996a",
   "metadata": {},
   "source": [
    "14.Can you name four of the most important Machine Learning challenges?"
   ]
  },
  {
   "cell_type": "markdown",
   "id": "97e2b344",
   "metadata": {},
   "source": [
    "Overfitting data, Underfitting data, Lacking in data, No proper data"
   ]
  },
  {
   "cell_type": "markdown",
   "id": "4d9335ab",
   "metadata": {},
   "source": [
    "15.What happens if the model performs well on the training data but fails to generalize the results\n",
    "to new situations? Can you think of three different options?"
   ]
  },
  {
   "cell_type": "markdown",
   "id": "da5a3679",
   "metadata": {},
   "source": [
    "In this case the model is Overfitting and it should be retrained or optimized well using hyperparameter tuning."
   ]
  },
  {
   "cell_type": "markdown",
   "id": "f8fe4e55",
   "metadata": {},
   "source": [
    "16.What exactly is a test set, and why would you need one?"
   ]
  },
  {
   "cell_type": "markdown",
   "id": "4d88a8a3",
   "metadata": {},
   "source": [
    "Test set data is the part of dataset which is very important as Once the model has been trained, it should tested before production and for that testing we use test set and the datapoints in the test set should not be in the trained data so that the predictions will be good."
   ]
  },
  {
   "cell_type": "markdown",
   "id": "aebeddb4",
   "metadata": {},
   "source": [
    "17.What is a validation set's purpose?"
   ]
  },
  {
   "cell_type": "markdown",
   "id": "37cc61b1",
   "metadata": {},
   "source": [
    "The validation set is used during the training phase of the model to provide an unbiased evaluation of the model's performance and to fine-tune the model's parameters. The test set, on the other hand, is used after the model has been fully trained to assess the model's performance on completely unseen data."
   ]
  },
  {
   "cell_type": "markdown",
   "id": "daf33a8e",
   "metadata": {},
   "source": [
    "18.What precisely is the train-dev kit, when will you need it, how do you put it to use?"
   ]
  },
  {
   "cell_type": "markdown",
   "id": "864af346",
   "metadata": {},
   "source": [
    "The training set is the one in which we build our model and optimizing our model and it should give good accuracy"
   ]
  },
  {
   "cell_type": "markdown",
   "id": "bf7427dc",
   "metadata": {},
   "source": [
    "19.What could go wrong if you use the test set to tune hyperparameters?"
   ]
  },
  {
   "cell_type": "markdown",
   "id": "20d59a91",
   "metadata": {},
   "source": [
    "Test set should be used to tune hyperparameters as because it will not be able to give good predictions on upcomming new data"
   ]
  },
  {
   "cell_type": "code",
   "execution_count": null,
   "id": "21d39d48",
   "metadata": {},
   "outputs": [],
   "source": []
  }
 ],
 "metadata": {
  "kernelspec": {
   "display_name": "Python 3 (ipykernel)",
   "language": "python",
   "name": "python3"
  },
  "language_info": {
   "codemirror_mode": {
    "name": "ipython",
    "version": 3
   },
   "file_extension": ".py",
   "mimetype": "text/x-python",
   "name": "python",
   "nbconvert_exporter": "python",
   "pygments_lexer": "ipython3",
   "version": "3.9.12"
  }
 },
 "nbformat": 4,
 "nbformat_minor": 5
}
