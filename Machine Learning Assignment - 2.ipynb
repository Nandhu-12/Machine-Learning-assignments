{
 "cells": [
  {
   "cell_type": "markdown",
   "id": "29160979",
   "metadata": {},
   "source": [
    "# Machine Learning Assignment - 2"
   ]
  },
  {
   "cell_type": "markdown",
   "id": "4ee9d6d6",
   "metadata": {},
   "source": [
    "**1. What is the concept of human learning? Please give two examples.**"
   ]
  },
  {
   "cell_type": "markdown",
   "id": "5edbbd19",
   "metadata": {},
   "source": [
    "The concept of human learning in machine learning (ML) involves drawing inspiration from how humans learn and adapt to new information and experiences in order to improve the performance of ML algorithms. By emulating aspects of human learning, ML models can become more efficient, adaptive, and capable of generalizing from limited data.\n",
    "\n",
    "Examples : Transfer learning and Reinforcement Learning"
   ]
  },
  {
   "cell_type": "markdown",
   "id": "fdc128e2",
   "metadata": {},
   "source": [
    "**2. What different forms of human learning are there? Are there any machine learning equivalents?**"
   ]
  },
  {
   "cell_type": "markdown",
   "id": "338cebfa",
   "metadata": {},
   "source": [
    "Yes there are, all machine learning concepts have human learning equivalents"
   ]
  },
  {
   "cell_type": "markdown",
   "id": "2ae7cccc",
   "metadata": {},
   "source": [
    "**3. What is machine learning, and how does it work? What are the key responsibilities of machine\n",
    "learning?**"
   ]
  },
  {
   "cell_type": "markdown",
   "id": "d5d9ab59",
   "metadata": {},
   "source": [
    "ML is an art of programming a computer so that the computer reads the pattern of the data and becomes flexible enough to adapt new data without any explicit programming.\n",
    "\n",
    "In ML, we mainly Explore the data with statistics and findout the pattern using various Algorithms"
   ]
  },
  {
   "cell_type": "markdown",
   "id": "55de0313",
   "metadata": {},
   "source": [
    "**4. Define the terms \"penalty\" and \"reward\" in the context of reinforcement learning.**"
   ]
  },
  {
   "cell_type": "markdown",
   "id": "29a3be02",
   "metadata": {},
   "source": [
    "What are the rewards in reinforcement learning?\n",
    "In reinforcement learning, the agent is rewarded for taking controls that lead to successful states. The rewards can be immediate, such as receiving a point for each step taken in the right direction, or they can be delayed, such as receiving a point at the end of the episode if the goal was reached.\n",
    "\n",
    "For each good action, the agent gets positive feedback, and for each bad action, the agent gets negative feedback or penalty."
   ]
  },
  {
   "cell_type": "markdown",
   "id": "9aceacfb",
   "metadata": {},
   "source": [
    "**5. Explain the term \"learning as a search\"?**"
   ]
  },
  {
   "cell_type": "markdown",
   "id": "d79e0638",
   "metadata": {},
   "source": [
    "In general, we can think of concept learning as a search problem. The learner searches through a space of hypotheses (we will explain what they are), to find the best one."
   ]
  },
  {
   "cell_type": "markdown",
   "id": "890109e7",
   "metadata": {},
   "source": [
    "**6. What are the various goals of machine learning? What is the relationship between these and\n",
    "human learning?**"
   ]
  },
  {
   "cell_type": "markdown",
   "id": "efcae7f3",
   "metadata": {},
   "source": [
    "Classification:\n",
    "\n",
    "ML Goal: Classification involves categorizing data into predefined classes or labels. It is commonly used for tasks like spam detection, image recognition, and sentiment analysis.\n",
    "\n",
    "Human Learning: Humans also learn to classify objects and information from a young age. For example, children learn to distinguish between animals, colors, and shapes, which is a form of classification.\n",
    "\n",
    "Regression:\n",
    "\n",
    "ML Goal: Regression aims to predict continuous numerical values. It is used in applications like predicting house prices, stock market trends, and weather forecasting.\n",
    "\n",
    "Human Learning: Humans engage in regression-like learning when they estimate quantities or make predictions based on past experiences. For instance, estimating travel time based on traffic patterns involves a form of regression.\n",
    "\n",
    "Clustering:\n",
    "\n",
    "ML Goal: Clustering involves grouping similar data points together based on their intrinsic characteristics. It is used for customer segmentation, image segmentation, and recommendation systems.\n",
    "\n",
    "Human Learning: Humans naturally cluster information to simplify understanding and make decisions. For example, we group similar foods together in our minds or organize items in our homes based on their functions."
   ]
  },
  {
   "cell_type": "markdown",
   "id": "0207f9f0",
   "metadata": {},
   "source": [
    "**7. Illustrate the various elements of machine learning using a real-life illustration.**"
   ]
  },
  {
   "cell_type": "markdown",
   "id": "8e3c2f43",
   "metadata": {},
   "source": [
    "Email Spam Detection."
   ]
  },
  {
   "cell_type": "markdown",
   "id": "56cbfa0f",
   "metadata": {},
   "source": [
    "**8. Provide an example of the abstraction method.**"
   ]
  },
  {
   "cell_type": "markdown",
   "id": "f5089aab",
   "metadata": {},
   "source": [
    "Drawing Shapes with Abstraction"
   ]
  },
  {
   "cell_type": "markdown",
   "id": "9e6b4ecd",
   "metadata": {},
   "source": [
    "**9. What is the concept of generalization? What function does it play in the machine learning\n",
    "process?**"
   ]
  },
  {
   "cell_type": "markdown",
   "id": "15965439",
   "metadata": {},
   "source": [
    "The concept of generalization is a fundamental aspect of machine learning, and it refers to the ability of a trained model to make accurate predictions or perform well on unseen or new data that it hasn't encountered during its training phase. "
   ]
  },
  {
   "cell_type": "markdown",
   "id": "54747d50",
   "metadata": {},
   "source": [
    "**What is classification, exactly? What are the main distinctions between classification and regression?**"
   ]
  },
  {
   "cell_type": "markdown",
   "id": "54e1f590",
   "metadata": {},
   "source": [
    "In Classification we will have the target feature with fixed categories Eg: yes/No, Gender\n",
    "    \n",
    "In Regression we will have the target feature with continuous values Eg: Salary"
   ]
  },
  {
   "cell_type": "markdown",
   "id": "7b5ec4ef",
   "metadata": {},
   "source": [
    "**11. What is regression, and how does it work? Give an example of a real-world problem that was\n",
    "solved using regression.**"
   ]
  },
  {
   "cell_type": "markdown",
   "id": "f98a1ac4",
   "metadata": {},
   "source": [
    "In Regression we will have the target feature with continuous values and it can be predicted using Regression Algorithms Eg: Salary"
   ]
  },
  {
   "cell_type": "markdown",
   "id": "60dec00d",
   "metadata": {},
   "source": [
    "**12. Describe the clustering mechanism in detail.**"
   ]
  },
  {
   "cell_type": "markdown",
   "id": "46a1e2bd",
   "metadata": {},
   "source": [
    "Clustering is where there will not be any fixed output instead we will be grouping into clustors. Eg: Customer segmentation"
   ]
  }
 ],
 "metadata": {
  "kernelspec": {
   "display_name": "Python 3 (ipykernel)",
   "language": "python",
   "name": "python3"
  },
  "language_info": {
   "codemirror_mode": {
    "name": "ipython",
    "version": 3
   },
   "file_extension": ".py",
   "mimetype": "text/x-python",
   "name": "python",
   "nbconvert_exporter": "python",
   "pygments_lexer": "ipython3",
   "version": "3.9.12"
  }
 },
 "nbformat": 4,
 "nbformat_minor": 5
}
