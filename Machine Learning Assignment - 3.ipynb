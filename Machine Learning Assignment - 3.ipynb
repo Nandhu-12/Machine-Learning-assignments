{
 "cells": [
  {
   "cell_type": "markdown",
   "id": "e8dbc4f3",
   "metadata": {},
   "source": [
    "# Machine Learning Assignment - 3"
   ]
  },
  {
   "cell_type": "markdown",
   "id": "6719af39",
   "metadata": {},
   "source": [
    "**1.Explain the term machine learning, and how does it work? Explain two machine learning\n",
    "applications in the business world. What are some of the ethical concerns that machine learning\n",
    "applications could raise?**"
   ]
  },
  {
   "cell_type": "markdown",
   "id": "f62e164a",
   "metadata": {},
   "source": [
    "ML is an art of programming a computer so that the computer reads the pattern of the data and becomes flexible enough to adapt new data without any explicit programming.\n",
    "\n",
    "In ML, we mainly Explore the data with statistics and findout the pattern using various Algorithms"
   ]
  },
  {
   "cell_type": "markdown",
   "id": "d9e9c4b5",
   "metadata": {},
   "source": [
    "**2. Describe the process of human learning:**\n",
    "    \n",
    "**i. Under the supervision of experts**\n",
    "\n",
    "**ii. With the assistance of experts in an indirect manner**\n",
    "\n",
    "**iii. Self-education**"
   ]
  },
  {
   "cell_type": "markdown",
   "id": "1a37ed2a",
   "metadata": {},
   "source": [
    "The concept of human learning in machine learning (ML) involves drawing inspiration from how humans learn and adapt to new information and experiences in order to improve the performance of ML algorithms. By emulating aspects of human learning, ML models can become more efficient, adaptive, and capable of generalizing from limited data.\n",
    "\n",
    "Examples : Transfer learning and Reinforcement Learning"
   ]
  },
  {
   "cell_type": "markdown",
   "id": "d01e69d2",
   "metadata": {},
   "source": [
    "**3. Provide a few examples of various types of machine learning.**"
   ]
  },
  {
   "cell_type": "markdown",
   "id": "648be205",
   "metadata": {},
   "source": [
    "regression and classification"
   ]
  },
  {
   "cell_type": "markdown",
   "id": "58633a66",
   "metadata": {},
   "source": [
    "**4. Examine the various forms of machine learning.**"
   ]
  },
  {
   "cell_type": "markdown",
   "id": "1bed657a",
   "metadata": {},
   "source": [
    "supervised , unsupervised, reinforcement learning"
   ]
  },
  {
   "cell_type": "markdown",
   "id": "d33dae96",
   "metadata": {},
   "source": [
    "**5. Can you explain what a well-posed learning problem is? Explain the main characteristics that must\n",
    "be present to identify a learning problem properly.**"
   ]
  },
  {
   "cell_type": "markdown",
   "id": "e6cb4b02",
   "metadata": {},
   "source": [
    "A computer program is said to learn from experience E in context to some task T and some performance measure P, if its performance on T, as was measured by P, upgrades with experience E"
   ]
  },
  {
   "cell_type": "markdown",
   "id": "4b3c6468",
   "metadata": {},
   "source": [
    "**6. Is machine learning capable of solving all problems? Give a detailed explanation of your answer.**"
   ]
  },
  {
   "cell_type": "markdown",
   "id": "bef6e5f2",
   "metadata": {},
   "source": [
    "No, It can solve some problems and the problems that cannot be solved by ml can be solved either by Deep learning or computer vision or Natural language processing."
   ]
  },
  {
   "cell_type": "markdown",
   "id": "e13869ce",
   "metadata": {},
   "source": [
    "**7. What are the various methods and technologies for solving machine learning problems? Any two\n",
    "of them should be defined in detail.**"
   ]
  },
  {
   "cell_type": "markdown",
   "id": "a2e733c1",
   "metadata": {},
   "source": [
    "supervised , unsupervised"
   ]
  },
  {
   "cell_type": "markdown",
   "id": "743978df",
   "metadata": {},
   "source": [
    "**8. Can you explain the various forms of supervised learning? Explain each one with an example\n",
    "application.**"
   ]
  },
  {
   "cell_type": "markdown",
   "id": "0bd12f7b",
   "metadata": {},
   "source": [
    "classification and regression"
   ]
  },
  {
   "cell_type": "markdown",
   "id": "b7efb453",
   "metadata": {},
   "source": [
    "**9. What is the difference between supervised and unsupervised learning? With a sample application\n",
    "in each region, explain the differences.**"
   ]
  },
  {
   "cell_type": "markdown",
   "id": "7493b323",
   "metadata": {},
   "source": [
    "In supervised learning we will deal will the target output whereas in unsupervised learning we will be grouping similar datas to get correct output.\n",
    "\n",
    "Eg: supervised learning -- predicting salary based on experience                                                            \n",
    "    Unsupervised learning -- predicting votes, Recommendation system"
   ]
  },
  {
   "cell_type": "markdown",
   "id": "38a5b237",
   "metadata": {},
   "source": [
    "**10. Describe the machine learning process in depth.**"
   ]
  },
  {
   "cell_type": "markdown",
   "id": "018717df",
   "metadata": {},
   "source": [
    "Machine learning is the process of making systems that learn and improve by themselves, by being specifically programmed. The ultimate goal of machine learning is to design algorithms that automatically help a system gather data and use that data to learn more."
   ]
  }
 ],
 "metadata": {
  "kernelspec": {
   "display_name": "Python 3 (ipykernel)",
   "language": "python",
   "name": "python3"
  },
  "language_info": {
   "codemirror_mode": {
    "name": "ipython",
    "version": 3
   },
   "file_extension": ".py",
   "mimetype": "text/x-python",
   "name": "python",
   "nbconvert_exporter": "python",
   "pygments_lexer": "ipython3",
   "version": "3.9.12"
  }
 },
 "nbformat": 4,
 "nbformat_minor": 5
}
