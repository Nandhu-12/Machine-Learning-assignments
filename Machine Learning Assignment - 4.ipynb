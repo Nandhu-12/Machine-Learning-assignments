{
 "cells": [
  {
   "cell_type": "markdown",
   "id": "ab150d3f",
   "metadata": {},
   "source": [
    "# Machine Learning Assignment - 4"
   ]
  },
  {
   "cell_type": "markdown",
   "id": "2dff3b58",
   "metadata": {},
   "source": [
    "**1. What are the key tasks involved in getting ready to work with machine learning modeling?**"
   ]
  },
  {
   "cell_type": "markdown",
   "id": "fc5719d2",
   "metadata": {},
   "source": [
    "data exploration, model building, model hyperparameters tuning and model selection with optimum performance"
   ]
  },
  {
   "cell_type": "markdown",
   "id": "d95cbaf6",
   "metadata": {},
   "source": [
    "**2. What are the different forms of data used in machine learning? Give a specific example for each of\n",
    "them.**"
   ]
  },
  {
   "cell_type": "markdown",
   "id": "4f5c19da",
   "metadata": {},
   "source": [
    "regression and classification"
   ]
  },
  {
   "cell_type": "markdown",
   "id": "5bcabad5",
   "metadata": {},
   "source": [
    "**5. Why is it necessary to investigate data? Is there a discrepancy in how qualitative and quantitative\n",
    "data are explored?**"
   ]
  },
  {
   "cell_type": "markdown",
   "id": "0c7c9f99",
   "metadata": {},
   "source": [
    "n general, quantitative research seeks to understand the causal or correlational relationship between variables through testing hypotheses, whereas qualitative research seeks to understand a phenomenon within a real-world context through the use of interviews and observation"
   ]
  },
  {
   "cell_type": "markdown",
   "id": "a132a181",
   "metadata": {},
   "source": [
    "**6. What are the various histogram shapes? What exactly are ‘bins'?**"
   ]
  },
  {
   "cell_type": "markdown",
   "id": "8d3d8e9d",
   "metadata": {},
   "source": [
    "A histogram displays numerical data by grouping data into \"bins\" of equal width. "
   ]
  },
  {
   "cell_type": "markdown",
   "id": "7a473666",
   "metadata": {},
   "source": [
    "**7. How do we deal with data outliers?**"
   ]
  },
  {
   "cell_type": "markdown",
   "id": "ee1eff4b",
   "metadata": {},
   "source": [
    "IQR method and many more"
   ]
  },
  {
   "cell_type": "markdown",
   "id": "b60ffd49",
   "metadata": {},
   "source": [
    "**8. What are the various central inclination measures? Why does mean vary too much from median in\n",
    "certain data sets?**"
   ]
  },
  {
   "cell_type": "markdown",
   "id": "cdfac623",
   "metadata": {},
   "source": [
    "mean,median,mode"
   ]
  },
  {
   "cell_type": "markdown",
   "id": "58e13697",
   "metadata": {},
   "source": [
    "**9. Describe how a scatter plot can be used to investigate bivariate relationships. Is it possible to find\n",
    "outliers using a scatter plot?**"
   ]
  },
  {
   "cell_type": "markdown",
   "id": "10a4f24e",
   "metadata": {},
   "source": [
    "The values of one variable appear on the horizontal axis, and the values of the other variable appear on the vertical axis."
   ]
  },
  {
   "cell_type": "markdown",
   "id": "b478909b",
   "metadata": {},
   "source": [
    "**10. Describe how cross-tabs can be used to figure out how two variables are related.**"
   ]
  },
  {
   "cell_type": "markdown",
   "id": "481277f5",
   "metadata": {},
   "source": [
    "groups variables to understand the correlation between different variables. "
   ]
  }
 ],
 "metadata": {
  "kernelspec": {
   "display_name": "Python 3 (ipykernel)",
   "language": "python",
   "name": "python3"
  },
  "language_info": {
   "codemirror_mode": {
    "name": "ipython",
    "version": 3
   },
   "file_extension": ".py",
   "mimetype": "text/x-python",
   "name": "python",
   "nbconvert_exporter": "python",
   "pygments_lexer": "ipython3",
   "version": "3.9.12"
  }
 },
 "nbformat": 4,
 "nbformat_minor": 5
}
