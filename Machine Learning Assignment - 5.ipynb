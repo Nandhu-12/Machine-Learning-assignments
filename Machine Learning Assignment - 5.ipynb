{
 "cells": [
  {
   "cell_type": "markdown",
   "id": "f482b110",
   "metadata": {},
   "source": [
    "# Machine Learning Assignment - 5"
   ]
  },
  {
   "cell_type": "markdown",
   "id": "b6e2e2ff",
   "metadata": {},
   "source": [
    "1. What are the key tasks that machine learning entails? What does data pre-processing imply?"
   ]
  },
  {
   "cell_type": "markdown",
   "id": "cad110cb",
   "metadata": {},
   "source": [
    "To build a ML model which is flexible enough to adapt the new data without any explicit programming, Data Pre-processing is done to clean the data before applying model on it to give high accuracy"
   ]
  },
  {
   "cell_type": "markdown",
   "id": "c34f8272",
   "metadata": {},
   "source": [
    "2. Describe quantitative and qualitative data in depth. Make a distinction between the two."
   ]
  },
  {
   "cell_type": "markdown",
   "id": "6db5ee9e",
   "metadata": {},
   "source": [
    "Quantitative data is generally a numerical one whereas the Qualitative data is the fixed categories like gender etc"
   ]
  },
  {
   "cell_type": "markdown",
   "id": "cbbf954c",
   "metadata": {},
   "source": [
    "4. What are the various causes of machine learning data issues? What are the ramifications?"
   ]
  },
  {
   "cell_type": "markdown",
   "id": "da77c17b",
   "metadata": {},
   "source": [
    "Missing Data:                                                                                                                  \n",
    "Ramifications: Missing data can lead to biased models, reduced model accuracy, and potential loss of valuable information. It may also affect the interpretability of the model.\n",
    "\n",
    "Duplicate Data:                                                                                                               \n",
    "Ramifications: Duplicate records can skew model training, leading to overfitting. They may also lead to incorrect statistical summaries and insights.\n",
    "\n",
    "Outliers:                                                                                                                       \n",
    "Ramifications: Outliers can distort statistical analyses and model training, leading to poor generalization. Identifying and handling outliers is crucial for robust models.\n",
    "\n",
    "Imbalanced Data:                                                                                                             \n",
    "Ramifications: Models trained on imbalanced data may have poor performance on the minority class, as they tend to favor the majority class. It can lead to biased predictions.\n"
   ]
  },
  {
   "cell_type": "markdown",
   "id": "aeabef02",
   "metadata": {},
   "source": [
    "5. Demonstrate various approaches to categorical data exploration with appropriate examples."
   ]
  },
  {
   "cell_type": "markdown",
   "id": "818d4490",
   "metadata": {},
   "source": [
    "Frequency Distribution,Relative Frequency,Cross-Tabulation (Contingency Tables),Mode (Most Common Category)"
   ]
  },
  {
   "cell_type": "markdown",
   "id": "648edb75",
   "metadata": {},
   "source": [
    "6. How would the learning activity be affected if certain variables have missing values? Having said\n",
    "that, what can be done about it?"
   ]
  },
  {
   "cell_type": "markdown",
   "id": "a141ed9d",
   "metadata": {},
   "source": [
    "Missing data can lead to biased models, reduced model accuracy, and potential loss of valuable information. It may also affect the interpretability of the model."
   ]
  },
  {
   "cell_type": "markdown",
   "id": "2256bcbc",
   "metadata": {},
   "source": [
    "7. Describe the various methods for dealing with missing data values in depth."
   ]
  },
  {
   "cell_type": "markdown",
   "id": "2ceb4fae",
   "metadata": {},
   "source": [
    "1. Mean/ Median/Mode replacement                                                                                  \n",
    "2. Random Sample Imputation                                                                                             \n",
    "3. Capturing NAN values with a new feature                                                                              \n",
    "4. End of Distribution imputation                                                                                         \n",
    "5. Arbitrary imputation                                                                                                      \n",
    "6. Frequent categories imputation\n"
   ]
  },
  {
   "cell_type": "markdown",
   "id": "b049a1ba",
   "metadata": {},
   "source": [
    "8. What are the various data pre-processing techniques? Explain dimensionality reduction and\n",
    "function selection in a few words."
   ]
  },
  {
   "cell_type": "markdown",
   "id": "043f15a2",
   "metadata": {},
   "source": [
    "1) handling missing values                                                                                               \n",
    "2) handling duplicates                                                                                                \n",
    "3) handling outliers                                                                                                    \n",
    "4) Encoding categorical feature                                                                                           \n",
    "5) Normalization                                                                                                        \n",
    "6) data scaling"
   ]
  },
  {
   "cell_type": "markdown",
   "id": "16d5737a",
   "metadata": {},
   "source": [
    "i. What is the IQR? What criteria are used to assess it?\n",
    "\n",
    "ii. Describe the various components of a box plot in detail? When will the lower whisker\n",
    "surpass the upper whisker in length? How can box plots be used to identify outliers?"
   ]
  },
  {
   "cell_type": "markdown",
   "id": "c6a8e50b",
   "metadata": {},
   "source": [
    "1) minimum                                                                                                           \n",
    "2) first quartile (q1)                                                                                                \n",
    "3) median                                                                                                               \n",
    "4) third quartile (q3)                                                                                               \n",
    "5) maximum"
   ]
  },
  {
   "cell_type": "code",
   "execution_count": null,
   "id": "8d43217a",
   "metadata": {},
   "outputs": [],
   "source": []
  }
 ],
 "metadata": {
  "kernelspec": {
   "display_name": "Python 3 (ipykernel)",
   "language": "python",
   "name": "python3"
  },
  "language_info": {
   "codemirror_mode": {
    "name": "ipython",
    "version": 3
   },
   "file_extension": ".py",
   "mimetype": "text/x-python",
   "name": "python",
   "nbconvert_exporter": "python",
   "pygments_lexer": "ipython3",
   "version": "3.9.12"
  }
 },
 "nbformat": 4,
 "nbformat_minor": 5
}
