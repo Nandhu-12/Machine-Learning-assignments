{
 "cells": [
  {
   "cell_type": "markdown",
   "id": "d879ac5a",
   "metadata": {},
   "source": [
    "# Machine Learning Assignment - 6"
   ]
  },
  {
   "cell_type": "markdown",
   "id": "9af71f48",
   "metadata": {},
   "source": [
    "1. In the sense of machine learning, what is a model? What is the best way to train a model?"
   ]
  },
  {
   "cell_type": "markdown",
   "id": "affa8b21",
   "metadata": {},
   "source": [
    "ML is an art of programming a computer so that the computer learns the pattern of data and is flexible enough to adapt the new data without any explicit programming. The best way to train model is to get the proper data and do data cleaning and then train model with hyperparameter tuning"
   ]
  },
  {
   "cell_type": "markdown",
   "id": "62918898",
   "metadata": {},
   "source": [
    "2. In the sense of machine learning, explain the &quot;No Free Lunch&quot; theorem."
   ]
  },
  {
   "cell_type": "markdown",
   "id": "1e4f8efe",
   "metadata": {},
   "source": [
    "The NFL theorem emphasizes that machine learning problems vary widely in their characteristics, including data distribution, dimensionality, noise levels, and more. What works well for one problem may not work well for another due to these differences."
   ]
  },
  {
   "cell_type": "markdown",
   "id": "220b0b74",
   "metadata": {},
   "source": [
    "3. Describe the K-fold cross-validation mechanism in detail."
   ]
  },
  {
   "cell_type": "markdown",
   "id": "6122e0ed",
   "metadata": {},
   "source": [
    "It provides a more robust estimate of a model's performance because it assesses performance across multiple subsets of the data.\n",
    "It helps in detecting overfitting, as the model is tested on various validation sets during the K iterations.\n",
    "It maximizes the use of available data for both training and validation, which is particularly important when data is limited."
   ]
  },
  {
   "cell_type": "markdown",
   "id": "bd2cf0a0",
   "metadata": {},
   "source": [
    "4. Describe the bootstrap sampling method. What is the aim of it?"
   ]
  },
  {
   "cell_type": "markdown",
   "id": "622a8fc9",
   "metadata": {},
   "source": [
    "Bootstrap sampling is a powerful and versatile tool in statistics and machine learning, especially when dealing with limited data or when the underlying assumptions of traditional statistical methods may not hold. It provides a data-driven way to estimate and understand the uncertainty associated with various statistical measures and parameters."
   ]
  },
  {
   "cell_type": "markdown",
   "id": "12ae3257",
   "metadata": {},
   "source": [
    "6. Describe the model ensemble method. In machine learning, what part does it play?"
   ]
  },
  {
   "cell_type": "markdown",
   "id": "ecb71a60",
   "metadata": {},
   "source": [
    "Ensemble methods in machine learning involve combining the predictions from multiple individual models to create a more robust and accurate model. The primary goal of ensemble methods is to improve predictive performance by leveraging the diversity and complementary strengths of different base models. Ensemble methods play a crucial role in improving model accuracy, generalization, and stability."
   ]
  },
  {
   "cell_type": "markdown",
   "id": "11bc73b6",
   "metadata": {},
   "source": [
    "7. What is a descriptive model's main purpose? Give examples of real-world problems that\n",
    "descriptive models were used to solve."
   ]
  },
  {
   "cell_type": "markdown",
   "id": "9d1572e6",
   "metadata": {},
   "source": [
    "A descriptive model's main purpose is to summarize, visualize, and describe data or phenomena without making predictions or inferences about future outcomes. Descriptive models aim to provide a clear and concise representation of existing data, patterns, relationships, and structures to aid in understanding and interpretation. They are primarily used for data exploration, pattern recognition, and knowledge discovery. \n",
    "\n",
    "eg: Customer Churn Analysis"
   ]
  },
  {
   "cell_type": "markdown",
   "id": "0cd3217e",
   "metadata": {},
   "source": [
    "8. Describe how to evaluate a linear regression model."
   ]
  },
  {
   "cell_type": "markdown",
   "id": "cddd697a",
   "metadata": {},
   "source": [
    "MSE, RMSE, MAE, Huberloss"
   ]
  },
  {
   "cell_type": "code",
   "execution_count": null,
   "id": "bf4cb96a",
   "metadata": {},
   "outputs": [],
   "source": []
  }
 ],
 "metadata": {
  "kernelspec": {
   "display_name": "Python 3 (ipykernel)",
   "language": "python",
   "name": "python3"
  },
  "language_info": {
   "codemirror_mode": {
    "name": "ipython",
    "version": 3
   },
   "file_extension": ".py",
   "mimetype": "text/x-python",
   "name": "python",
   "nbconvert_exporter": "python",
   "pygments_lexer": "ipython3",
   "version": "3.9.12"
  }
 },
 "nbformat": 4,
 "nbformat_minor": 5
}
